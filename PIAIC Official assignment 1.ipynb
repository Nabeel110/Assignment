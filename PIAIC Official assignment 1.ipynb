{
 "cells": [
  {
   "cell_type": "markdown",
   "metadata": {},
   "source": [
    "## 1. Calculate Area of a Circle"
   ]
  },
  {
   "cell_type": "markdown",
   "metadata": {},
   "source": [
    "#### Write a Python program which accepts the radius of a circle from the user and compute the area.\n",
    "###### Program Console Sample Output 1:\n",
    "###### Input Radius: 0.5\n",
    "###### Area of Circle with radius 0.5 is 0.7853981634"
   ]
  },
  {
   "cell_type": "code",
   "execution_count": 19,
   "metadata": {},
   "outputs": [
    {
     "name": "stdout",
     "output_type": "stream",
     "text": [
      "\"Computing Area of Circle\"\n",
      "Input radius: 0.5\n",
      "Area of Circle with radius  0.5  is  0.7853981634\n"
     ]
    }
   ],
   "source": [
    "import math\n",
    "print('\"Computing Area of Circle\"')\n",
    "radius = float(input(\"Input radius: \"))\n",
    "def Area(radius):\n",
    "    return math.pi * radius * radius\n",
    "result = format(Area(radius),'.10g')\n",
    "print(f\"Area of Circle with radius \" , radius ,\" is \",result)"
   ]
  },
  {
   "cell_type": "code",
   "execution_count": null,
   "metadata": {},
   "outputs": [],
   "source": []
  },
  {
   "cell_type": "code",
   "execution_count": null,
   "metadata": {},
   "outputs": [],
   "source": []
  },
  {
   "cell_type": "markdown",
   "metadata": {},
   "source": [
    "## 2. Check Number either positive, negative or zero"
   ]
  },
  {
   "cell_type": "markdown",
   "metadata": {},
   "source": [
    "#### Write a Python program to check if a number is positive, negative or zero\n",
    "###### Program Console Sample Output 1:\n",
    "###### Enter Number: -1\n",
    "##### Negative Number Entered\n",
    "###### Program Console Sample Output 2:\n",
    "##### Integer: 3\n",
    "##### Positive Number Entered\n",
    "###### Program Console Sample Output 3:\n",
    "##### Integer: 0\n",
    "###### Zero Entered"
   ]
  },
  {
   "cell_type": "code",
   "execution_count": 27,
   "metadata": {},
   "outputs": [
    {
     "name": "stdout",
     "output_type": "stream",
     "text": [
      "'Checking Number'\n",
      "Enter Number : 0\n",
      "Zero Entered\n",
      "Do you want to check another number :yes\n",
      "Enter Number : 0\n",
      "Zero Entered\n",
      "Do you want to check another number :YES\n",
      "Enter Number : -99999\n",
      "Negative Number Entered\n",
      "Do you want to check another number :nO\n"
     ]
    }
   ],
   "source": [
    "print(\"'Checking Number'\")\n",
    "def check():\n",
    "    is_continue = True\n",
    "    while is_continue:\n",
    "        num = int(input(\"Enter Number : \"))\n",
    "        if num < 0 :\n",
    "            print(\"Negative Number Entered\")\n",
    "        elif num > 0:\n",
    "            print(\"Positive Number Entered\")\n",
    "        else:\n",
    "            print(\"Zero Entered\")\n",
    "        response =  input(\"Do you want to check another number :\")\n",
    "        if response.casefold()==(\"yes\"):\n",
    "            continue\n",
    "        else:\n",
    "            break\n",
    "check()            "
   ]
  },
  {
   "cell_type": "code",
   "execution_count": null,
   "metadata": {},
   "outputs": [],
   "source": []
  },
  {
   "cell_type": "code",
   "execution_count": null,
   "metadata": {},
   "outputs": [],
   "source": []
  },
  {
   "cell_type": "code",
   "execution_count": null,
   "metadata": {},
   "outputs": [],
   "source": []
  },
  {
   "cell_type": "markdown",
   "metadata": {},
   "source": [
    "## 3. Divisibility Check of two numbers"
   ]
  },
  {
   "cell_type": "markdown",
   "metadata": {},
   "source": [
    "#### Write a Python program to check whether a number is completely divisible by another number. Accept two integer values form the user\n",
    "##### Program Console Sample Output 1:\n",
    "###### Enter numerator: 4\n",
    "###### Enter Denominator: 2\n",
    "##### Number 4 is Completely divisible by 2\n",
    "###### Program Console Sample Output 2:\n",
    "##### Enter numerator: 7\n",
    "\n",
    "##### Enter Denominator: 4\n",
    "###### Number 7 is not Completely divisible by 4"
   ]
  },
  {
   "cell_type": "code",
   "execution_count": 2,
   "metadata": {},
   "outputs": [
    {
     "name": "stdout",
     "output_type": "stream",
     "text": [
      "Divisibility check of Two numbers\n",
      "Enter numerator: 8\n",
      "Enter denominator: 7\n",
      "Number  8  is not Completely divisible by  7\n",
      "Do you want to check another Number: no\n"
     ]
    }
   ],
   "source": [
    "print(\"Divisibility check of Two numbers\")\n",
    "def div_check():\n",
    "    while True:\n",
    "        numerator = int(input(\"Enter numerator: \"))\n",
    "        denominator = int(input(\"Enter denominator: \"))\n",
    "        if numerator % denominator ==  0:\n",
    "             print(\"Number \",numerator,\" is Completely divisible by \",denominator)\n",
    "        else:\n",
    "            print(\"Number \",numerator,\" is not Completely divisible by \",denominator)\n",
    "        response = input(\"Do you want to check another Number: \")\n",
    "        if response.casefold() ==(\"yes\"):\n",
    "            continue\n",
    "        else:\n",
    "            break\n",
    "div_check()            "
   ]
  },
  {
   "cell_type": "code",
   "execution_count": null,
   "metadata": {},
   "outputs": [],
   "source": []
  },
  {
   "cell_type": "markdown",
   "metadata": {},
   "source": [
    "# 4. Days Calculator\n",
    "#### Write a Python program to calculate number of days between two dates\n",
    "#### Program Console Output:\n",
    "#### Enter a date in (dd/mm/yy) format: 12/12/2018\n",
    "#### Enter a date in (dd/mm/yy) format: 16/12/2018\n",
    "#### There are 4 days in between 12/12/2018 and 16/12/18 "
   ]
  },
  {
   "cell_type": "code",
   "execution_count": 5,
   "metadata": {},
   "outputs": [
    {
     "name": "stdout",
     "output_type": "stream",
     "text": [
      "Enter First Date : 12\n",
      "Enter last Date : 16\n",
      "Enter year : 2018\n",
      "Enter the month : 12\n",
      "There are 4between 2018-12-12 and 2018-12-16\n"
     ]
    }
   ],
   "source": [
    "from datetime import date\n",
    "def days_between_dates():\n",
    "    first_date = int(input (\"Enter First Date : \"))\n",
    "    final_date = int(input(\"Enter last Date : \"))\n",
    "    year = int(input(\"Enter year : \")) \n",
    "    month = int(input(\"Enter the month : \"))\n",
    "    f_date = date(year, month, first_date)\n",
    "    l_date = date(year, month, final_date)\n",
    "    delta = l_date - f_date\n",
    "    return \"There are \"+ str(delta.days) + \" days between \" +str(f_date) + \" and \" + str(l_date)\n",
    "print(days_between_dates())"
   ]
  },
  {
   "cell_type": "code",
   "execution_count": null,
   "metadata": {},
   "outputs": [],
   "source": []
  },
  {
   "cell_type": "code",
   "execution_count": null,
   "metadata": {},
   "outputs": [],
   "source": []
  },
  {
   "cell_type": "markdown",
   "metadata": {},
   "source": [
    "## 5. Calculate Volume of a sphere"
   ]
  },
  {
   "cell_type": "markdown",
   "metadata": {},
   "source": [
    "##### Write a Python program to get the volume of a sphere, please take the radius as input from user"
   ]
  },
  {
   "cell_type": "markdown",
   "metadata": {},
   "source": [
    "##### Program Console Output:\n",
    "##### Enter Radius of Sphere: 1\n",
    "###### Volume of the Sphere with Radius 1 is 4.18"
   ]
  },
  {
   "cell_type": "code",
   "execution_count": 32,
   "metadata": {},
   "outputs": [
    {
     "name": "stdout",
     "output_type": "stream",
     "text": [
      "************* Calculating Volume of Sphere ***************\n",
      "Enter Radius of Sphere: 1\n",
      "Volume of the Sphere with Radius  1.0  is  4.19\n"
     ]
    }
   ],
   "source": [
    "import math\n",
    "print(\"************* Calculating Volume of Sphere ***************\")\n",
    "rad = float(input(\"Enter Radius of Sphere: \"))\n",
    "def vol_sphere(rad):\n",
    "    vol = (4/3) * math.pi * rad * rad * rad\n",
    "    return vol\n",
    "result = format(vol_sphere(rad),'.3g')\n",
    "print(\"Volume of the Sphere with Radius \", rad , \" is \", result)"
   ]
  },
  {
   "cell_type": "code",
   "execution_count": null,
   "metadata": {},
   "outputs": [],
   "source": []
  },
  {
   "cell_type": "markdown",
   "metadata": {},
   "source": [
    "## 6. Copy string n times\n",
    "#### Write a Python program to get a string which is n (non-negative integer) copies of a given string.\n",
    "##### Program Console Output:\n",
    "##### Enter String: Hi\n",
    "###### How many copies of String you need: 4\n",
    "###### 4 Copies of Hi are HiHiHiHi"
   ]
  },
  {
   "cell_type": "code",
   "execution_count": 3,
   "metadata": {},
   "outputs": [
    {
     "name": "stdout",
     "output_type": "stream",
     "text": [
      "\t\t\t\t\t\t ********** Copying String N times **********\n",
      "Enter String: Hi\n",
      "How many copies of String you need: 4\n",
      "4  Copies of  Hi  are  HiHiHiHi\n",
      "Do you want to copy another String ? yes\n",
      "Enter String: nab\n",
      "How many copies of String you need: 8\n",
      "8  Copies of  nab  are  nabnabnabnabnabnabnabnab\n",
      "Do you want to copy another String ? no\n"
     ]
    }
   ],
   "source": [
    "print(\"\\t\\t\\t\\t\\t\\t ********** Copying String N times **********\")\n",
    "def string_times():\n",
    "    while True:\n",
    "        str = input(\"Enter String: \")\n",
    "        num = int(input(\"How many copies of String you need: \"))\n",
    "        print (num,\" Copies of \",str,\" are \", str*num)\n",
    "        response = input(\"Do you want to copy another String ? \")\n",
    "        if response.casefold() ==\"yes\":\n",
    "            continue\n",
    "        else:\n",
    "            break\n",
    "string_times()"
   ]
  },
  {
   "cell_type": "code",
   "execution_count": null,
   "metadata": {},
   "outputs": [],
   "source": []
  },
  {
   "cell_type": "markdown",
   "metadata": {},
   "source": [
    "## 7. Check if number is Even or Odd\n",
    "### Write a Python program to find whether a given number (accept from the user) is even or odd, print out an appropriate message to the user\n",
    "#### Program Console Output 1:\n",
    "##### Enter Number: 4\n",
    "###### 4 is Even\n",
    "#### Program Console Output 2:\n",
    "##### Enter Number: 9\n",
    "###### 9 is Odd"
   ]
  },
  {
   "cell_type": "code",
   "execution_count": 7,
   "metadata": {},
   "outputs": [
    {
     "name": "stdout",
     "output_type": "stream",
     "text": [
      "\t\t\t\t\t ***** Check Even Or Odd *****\n",
      "Enter Number: 4\n",
      "4  is Even\n",
      "Do You want to check another Number: yes\n",
      "Enter Number: 9\n",
      "9  is Odd\n",
      "Do You want to check another Number: no\n"
     ]
    }
   ],
   "source": [
    "print(\"\\t\\t\\t\\t\\t ***** Check Even Or Odd *****\")\n",
    "def check_even_odd():\n",
    "    while True:\n",
    "        num = int(input(\"Enter Number: \"))\n",
    "        if num % 2 == 0:\n",
    "               print (num ,\" is Even\")\n",
    "        else:\n",
    "            print (num, \" is Odd\")\n",
    "        response = input(\"Do You want to check another Number: \")\n",
    "        if response.casefold() == \"yes\":\n",
    "            continue\n",
    "        else:\n",
    "            break\n",
    "check_even_odd()           "
   ]
  },
  {
   "cell_type": "code",
   "execution_count": null,
   "metadata": {},
   "outputs": [],
   "source": []
  },
  {
   "cell_type": "markdown",
   "metadata": {},
   "source": [
    "## 8. Vowel Tester\n",
    "### Write a Python program to test whether a passed letter is a vowel or not\n",
    "#### Program Console Output 1:\n",
    "##### Enter a character: A\n",
    "###### Letter A is Vowel\n",
    "#### Program Console Output 2:\n",
    "##### Enter a character: e\n",
    "###### Letter e is Vowel\n",
    "#### Program Console Output 2:\n",
    "##### Enter a character: N\n",
    "###### Letter N is not Vowel"
   ]
  },
  {
   "cell_type": "code",
   "execution_count": 15,
   "metadata": {},
   "outputs": [
    {
     "name": "stdout",
     "output_type": "stream",
     "text": [
      "\t\t\t\t ***** Vowel Tester *****\n",
      "Enter a character: e\n",
      "Letter  e  is Vowel\n"
     ]
    }
   ],
   "source": [
    "print(\"\\t\\t\\t\\t ***** Vowel Tester *****\")\n",
    "def vowel_tester():\n",
    "    vowels= ['a','e','i','o','u']\n",
    "    is_vowel = False\n",
    "    char = input(\"Enter a character: \")\n",
    "    for vowel in vowels:\n",
    "        if vowel==char.lower():\n",
    "            print(\"Letter \",char ,\" is Vowel\")\n",
    "            is_vowel = True\n",
    "            break\n",
    "        else:\n",
    "            continue\n",
    "    if not is_vowel:\n",
    "        print(\"Letter \",char ,\" is not Vowel\")\n",
    "vowel_tester()"
   ]
  },
  {
   "cell_type": "code",
   "execution_count": null,
   "metadata": {},
   "outputs": [],
   "source": []
  },
  {
   "cell_type": "markdown",
   "metadata": {},
   "source": [
    "## 9. Triangle area\n",
    "### Write a Python program that will accept the base and height of a triangle and compute the area\n",
    "###### Reference:\n",
    "https://www.mathgoodies.com/lessons/vol1/area_triangle"
   ]
  },
  {
   "cell_type": "code",
   "execution_count": 16,
   "metadata": {},
   "outputs": [
    {
     "name": "stdout",
     "output_type": "stream",
     "text": [
      "\t\t\t\t ***** Triangle Area *****\n",
      "Enter base if triangle : 4\n",
      "Enter height of trianlge : 6\n",
      "Area of Triangle is  12.0\n"
     ]
    }
   ],
   "source": [
    "print(\"\\t\\t\\t\\t ***** Triangle Area *****\")\n",
    "def compute_area():\n",
    "    base = int(input(\"Enter base of triangle : \"))\n",
    "    height = int(input(\"Enter height of trianlge : \"))\n",
    "    area = 0.5 * base * height\n",
    "    return area\n",
    "print (\"Area of Triangle is \", compute_area())\n"
   ]
  },
  {
   "cell_type": "code",
   "execution_count": null,
   "metadata": {},
   "outputs": [],
   "source": []
  },
  {
   "cell_type": "markdown",
   "metadata": {},
   "source": [
    "## 10. Calculate Interest\n",
    "### Write a Python program to compute the future value of a specified principal amount, rate of interest, and a number of years\n",
    "#### Program Console Sample 1:\n",
    "##### Please enter principal amount: 10000\n",
    "###### Please Enter Rate of interest in %: 0.1\n",
    "###### Enter number of years for investment: 5\n",
    "###### After 5 years your principal amount 10000 over an interest rate of 0.1 % will be 16105.1"
   ]
  },
  {
   "cell_type": "code",
   "execution_count": 1,
   "metadata": {},
   "outputs": [
    {
     "name": "stdout",
     "output_type": "stream",
     "text": [
      "\t\t\t\t*****Interest Calculation*****\n",
      "Please enter principal amount: 10000\n",
      "Please Enter Rate of interest in %: 0.1\n",
      "Enter number of years for investment: 5\n",
      "After  5  years your principal amount  10000  over an interest rate of  0.1 % will be  16105.1\n"
     ]
    }
   ],
   "source": [
    "import numpy as np\n",
    "print(\"\\t\\t\\t\\t*****Interest Calculation*****\")\n",
    "def compute_interest():\n",
    "    amount = int(input(\"Please enter principal amount: \"))\n",
    "    rate = float(input(\"Please Enter Rate of interest in %: \"))\n",
    "    years = int(input(\"Enter number of years for investment: \"))\n",
    "    new_amount = np.round(amount*((1+rate)**years),1)\n",
    "    print(\"After \", years,\" years your principal amount \", amount,\" over an interest rate of \",rate,\"% will be \",new_amount)\n",
    "\n",
    "    \n",
    "compute_interest()    \n"
   ]
  },
  {
   "cell_type": "code",
   "execution_count": null,
   "metadata": {},
   "outputs": [],
   "source": []
  },
  {
   "cell_type": "markdown",
   "metadata": {},
   "source": [
    "## 11. Euclidean distance\n",
    "### write a Python program to compute the distance between the points (x1, y1) and (x2, y2).\n",
    "#### Program Console Sample 1:\n",
    "###### Enter Co-ordinate for x1: 2\n",
    "###### Enter Co-ordinate for x2: 4\n",
    "###### Enter Co-ordinate for y1: 4\n",
    "###### Enter Co-ordinate for y2: 4\n",
    "###### Distance between points (2, 4) and (4, 4) is 2"
   ]
  },
  {
   "cell_type": "markdown",
   "metadata": {},
   "source": [
    "###### Reference:\n",
    "https://en.wikipedia.org/wiki/Euclidean_distance"
   ]
  },
  {
   "cell_type": "code",
   "execution_count": 20,
   "metadata": {},
   "outputs": [
    {
     "name": "stdout",
     "output_type": "stream",
     "text": [
      "\t\t\t*****Calculating Distance*****\n",
      "Enter Co-ordinate for x1:2\n",
      "Enter Co-ordinate for x1:4\n",
      "Enter Co-ordinate for y1:4\n",
      "Enter Co-ordinate for y2:4\n",
      "Distance between points ( 2 , 4 )  and ( 4 , 4 )  2.0\n"
     ]
    }
   ],
   "source": [
    "import math\n",
    "print(\"\\t\\t\\t*****Calculating Distance*****\")\n",
    "def calc_dist():\n",
    "    X1 = int(input(\"Enter Co-ordinate for x1:\"))\n",
    "    X2 = int(input(\"Enter Co-ordinate for x2:\"))\n",
    "    Y1 =  int(input(\"Enter Co-ordinate for y1:\"))\n",
    "    Y2 =  int(input(\"Enter Co-ordinate for y2:\"))\n",
    "    dist = math.sqrt(((X2-X1)**2) + (Y2-Y1)**2)\n",
    "    print(\"Distance between points (\",X1,\",\",Y1,\")\",\" and (\", X2,\",\",Y2,\") \",dist)\n",
    "calc_dist()    "
   ]
  },
  {
   "cell_type": "code",
   "execution_count": null,
   "metadata": {},
   "outputs": [],
   "source": []
  },
  {
   "cell_type": "markdown",
   "metadata": {},
   "source": [
    "## 12. Feet to Centimeter Converter\n",
    "### Write a Python program to convert height in feet to centimetres.\n",
    "##### Program Console Sample 1:\n",
    "###### Enter Height in Feet: 5\n",
    "###### There are 152.4 Cm in 5 ft\n",
    "###### Reference:\n",
    "https://www.rapidtables.com/convert/length/feet-to-cm.html"
   ]
  },
  {
   "cell_type": "code",
   "execution_count": 22,
   "metadata": {},
   "outputs": [
    {
     "name": "stdout",
     "output_type": "stream",
     "text": [
      "\t\t\t\t***** Feet to Centimemet converter *****\n",
      "Enter Height in Feet: 5\n",
      "There are  152.4  in  5.0  ft\n"
     ]
    }
   ],
   "source": [
    "print(\"\\t\\t\\t\\t***** Feet to Centimemet converter *****\")\n",
    "def converter():\n",
    "    height = float(input(\"Enter Height in Feet: \"))\n",
    "    centi = height * 30.48\n",
    "    print (\"There are \", centi,\" in \",height,\" ft\")\n",
    "converter()    "
   ]
  },
  {
   "cell_type": "code",
   "execution_count": null,
   "metadata": {},
   "outputs": [],
   "source": []
  },
  {
   "cell_type": "markdown",
   "metadata": {},
   "source": [
    "## 13. BMI Calculator\n",
    "### Write a Python program to calculate body mass index\n",
    "##### Program Console Sample 1:\n",
    "###### Enter Height in Cm: 180\n",
    "###### Enter Weight in Kg: 75\n",
    "###### Your BMI is 23.15"
   ]
  },
  {
   "cell_type": "code",
   "execution_count": 31,
   "metadata": {},
   "outputs": [
    {
     "name": "stdout",
     "output_type": "stream",
     "text": [
      "\t\t\t\t***** BMI Calculator *****\n",
      "Enter Height in Cm: 180\n",
      "Enter weight in Kg: 75\n",
      "70.86614173228347\n",
      "165.346696635\n",
      "Your BMI is  23.15\n"
     ]
    }
   ],
   "source": [
    "print(\"\\t\\t\\t\\t***** BMI Calculator *****\")\n",
    "def BMI_calc():\n",
    "    height = float(input(\"Enter Height in Cm: \"))\n",
    "    weight = float(input(\"Enter weight in Kg: \"))\n",
    "    height_in_inches = height/2.54\n",
    "    print (height_in_inches)\n",
    "    weight_in_lbs = weight * 2.2046226218\n",
    "    print (weight_in_lbs)\n",
    "    bmi = ((weight_in_lbs)/(height_in_inches *height_in_inches)) * 703\n",
    "    return  bmi\n",
    "\n",
    "print (\"Your BMI is \",format(BMI_calc(),'.4g'))\n"
   ]
  },
  {
   "cell_type": "code",
   "execution_count": null,
   "metadata": {},
   "outputs": [],
   "source": []
  },
  {
   "cell_type": "markdown",
   "metadata": {},
   "source": [
    "## 14. Sum of n Positive Integers\n",
    "### Write a python program to sum of the first n positive integers\n",
    "#### Program Console Sample 1:\n",
    "###### Enter value of n: 5\n",
    "###### Sum of n Positive integers till 5 is 15"
   ]
  },
  {
   "cell_type": "code",
   "execution_count": 3,
   "metadata": {},
   "outputs": [
    {
     "name": "stdout",
     "output_type": "stream",
     "text": [
      "\t\t\t\t***** Sum of n Positive Integers *****\n",
      "Enter value of n: 7\n",
      "Sum of n posisyive integers till  7  is  28\n"
     ]
    }
   ],
   "source": [
    "print(\"\\t\\t\\t\\t***** Sum of n Positive Integers *****\")\n",
    "def calc_sum():\n",
    "    n = int(input(\"Enter value of n: \"))\n",
    "    sum_to_n = round((n *(n+1))/2)\n",
    "#     print (sum_to_n)\n",
    "    print(\"Sum of n posisyive integers till \", n, \" is \",sum_to_n)\n",
    "calc_sum()"
   ]
  },
  {
   "cell_type": "code",
   "execution_count": null,
   "metadata": {},
   "outputs": [],
   "source": []
  },
  {
   "cell_type": "markdown",
   "metadata": {},
   "source": [
    "## 15. Digits Sum of a Number\n",
    "### Write a Python program to calculate the sum of the digits in an integer\n",
    "#### Program Console Sample 1:\n",
    "##### Enter a number: 15\n",
    "###### Sum of 1 + 5 is 6\n",
    "#### Program Console Sample 2:\n",
    "##### Enter a number: 1234\n",
    "###### Sum of 1 + 2 + 3 + 4 is 10"
   ]
  },
  {
   "cell_type": "code",
   "execution_count": 11,
   "metadata": {
    "scrolled": true
   },
   "outputs": [
    {
     "name": "stdout",
     "output_type": "stream",
     "text": [
      "\t\t\t\t***** Digits Sum of a Number *****\n",
      "Enter a number: 1234\n",
      "4 + 3 + 2 + 1 = 10\n"
     ]
    }
   ],
   "source": [
    "print(\"\\t\\t\\t\\t***** Digits Sum of a Number *****\")\n",
    "def sum_digits():\n",
    "    digits = []\n",
    "    num = int(input(\"Enter a number: \"))\n",
    "    length_of_num = len(str(num))\n",
    "    summation = 0\n",
    "    for i in range(length_of_num):\n",
    "        digit = num % 10\n",
    "#         print (summation)\n",
    "        digits.append(digit)   \n",
    "        num = num//10\n",
    "        summation =sum(digits)\n",
    "        if (i == length_of_num -1):\n",
    "            print (digit,\"=\",summation)\n",
    "            break\n",
    "        print ( digit,\"+ \",end =\"\")\n",
    "sum_digits()    "
   ]
  },
  {
   "cell_type": "code",
   "execution_count": null,
   "metadata": {},
   "outputs": [],
   "source": []
  },
  {
   "cell_type": "markdown",
   "metadata": {},
   "source": [
    "## 16. Decimal to Binary Converter\n",
    "#### Write a Python program to convert an decimal integer to binary\n",
    "#### Program Console Sample 1:\n",
    "#### Enter a decimal number: 5\n",
    "#### Binary Representation of 5 is 101\n",
    "#### Program Console Sample 2:\n",
    "#### Enter a decimal number: 32\n",
    "#### Binary Representation of 32 is 100000\n",
    "#### Reference:\n",
    "https://www.rapidtables.com/convert/number/decimal-to-binary.html"
   ]
  },
  {
   "cell_type": "code",
   "execution_count": 13,
   "metadata": {},
   "outputs": [
    {
     "name": "stdout",
     "output_type": "stream",
     "text": [
      "Enter any decimal number: 32\n",
      "100000"
     ]
    }
   ],
   "source": [
    "def decimalToBinary(num):\n",
    "    \"\"\"This function converts decimal number\n",
    "    to binary and prints it\"\"\"\n",
    "    if num > 1:\n",
    "        decimalToBinary(num // 2)\n",
    "    print(num % 2, end='')\n",
    "\n",
    "\n",
    "# decimal number\n",
    "number = int(input(\"Enter any decimal number: \"))\n",
    "\n",
    "decimalToBinary(number)"
   ]
  },
  {
   "cell_type": "code",
   "execution_count": null,
   "metadata": {},
   "outputs": [],
   "source": []
  },
  {
   "cell_type": "markdown",
   "metadata": {},
   "source": [
    "## 17. Binary to Decimal Converter\n",
    "#### Write a program to convert binary number to Decimal number\n",
    "#### Program Console Sample 1:\n",
    "#### Enter a Binary number: 1101\n",
    "##### Decimal Representation of 1101 is 13\n",
    "##### Program Console Sample 2:\n",
    "##### Enter a Binary number: 1001\n",
    "##### Decimal Representation of 1001 is 9 \n",
    "###### Reference:\n",
    "https://www.rapidtables.com/convert/number/binary-to-decimal.html"
   ]
  },
  {
   "cell_type": "code",
   "execution_count": 15,
   "metadata": {},
   "outputs": [
    {
     "name": "stdout",
     "output_type": "stream",
     "text": [
      "Enter the binary number: 1001\n",
      "Decimal Representation of 1001 is 9\n"
     ]
    }
   ],
   "source": [
    "def binaryToDecimal(binary): \n",
    "      \n",
    "    binary1 = binary \n",
    "    decimal, i, n = 0, 0, 0\n",
    "    while(binary != 0): \n",
    "        dec = binary % 10\n",
    "        decimal = decimal + dec * pow(2, i) \n",
    "        binary = binary//10\n",
    "        i += 1\n",
    "    return(decimal) \n",
    "binary_no = int(input(\"Enter the binary number: \")) \n",
    "print(\"Decimal Representation of\",binary_no,\"is\",binaryToDecimal(binary_no))"
   ]
  },
  {
   "cell_type": "code",
   "execution_count": null,
   "metadata": {},
   "outputs": [],
   "source": []
  },
  {
   "cell_type": "markdown",
   "metadata": {},
   "source": [
    "## 18. Vowel and Consonants Counter\n",
    "#### Input a text and count the occurrences of vowels and consonant\n",
    "#### Program Console Sample 1:\n",
    "#### Enter text: QuickBrownFoxJumpsovertheDog\n",
    "#### Vowels: 9\n",
    "#### Consonants: 19 "
   ]
  },
  {
   "cell_type": "code",
   "execution_count": 21,
   "metadata": {},
   "outputs": [
    {
     "name": "stdout",
     "output_type": "stream",
     "text": [
      "Enter text : QuickBrownFoxJumpsovertheDog\n",
      "Vowels : 9 \n",
      "Consonants : 19\n"
     ]
    }
   ],
   "source": [
    "def count_vowels_and_consonants(text):\n",
    "    length_of_text = len(text) \n",
    "    vowels = ['a', 'e', 'i', 'o', 'u']\n",
    "    vowel_count = 0\n",
    "    consonant_count = 0\n",
    "    for char in text:\n",
    "        if char in vowels:\n",
    "            vowel_count+=1\n",
    "        else: \n",
    "            consonant_count+=1\n",
    "    return vowel_count,consonant_count\n",
    "\n",
    "user_input = input(\"Enter text : \")\n",
    "result = count_vowels_and_consonants(user_input)\n",
    "vowels = result[0]\n",
    "consonants =result[1]\n",
    "print(\"Vowels :\", vowels, \"\\nConsonants :\",consonants)\n",
    "    "
   ]
  },
  {
   "cell_type": "code",
   "execution_count": null,
   "metadata": {},
   "outputs": [],
   "source": []
  },
  {
   "cell_type": "markdown",
   "metadata": {},
   "source": [
    "## 19. Palindrome tester\n",
    "#### Write a program to check whether given input is palindrome or not\n",
    "#### Program Console Sample 1:\n",
    "#### Enter text: AHA\n",
    "#### Text AHA is Palindrome\n",
    "#### Program Console Sample 2:\n",
    "#### Enter text: Hello\n",
    "#### Text Hello is not a Palindrome \n"
   ]
  },
  {
   "cell_type": "code",
   "execution_count": 3,
   "metadata": {},
   "outputs": [
    {
     "name": "stdout",
     "output_type": "stream",
     "text": [
      "Enter Text: Aha\n",
      "Text aha is a Palindrome.\n"
     ]
    }
   ],
   "source": [
    "def check_palindrome(text):\n",
    "    rev = text[::-1]\n",
    "#     print (rev)\n",
    "    if rev == text:\n",
    "        return \"Text \" + text + \" is a Palindrome.\"\n",
    "    else:\n",
    "        return \"Text \" + text + \" is not a Palindrome.\"\n",
    "    pass\n",
    "\n",
    "user_input = input(\"Enter Text: \").lower()\n",
    "print (check_palindrome(user_input))\n",
    "    \n",
    "    \n",
    "    "
   ]
  },
  {
   "cell_type": "code",
   "execution_count": null,
   "metadata": {},
   "outputs": [],
   "source": []
  },
  {
   "cell_type": "markdown",
   "metadata": {},
   "source": [
    "## 20. Count Alphabets, Numbers and Special Characters\n",
    "#### Write a Python program that accepts a string and calculate the number of digits and letters\n",
    "##### Program Console Sample 1:\n",
    "##### Enter text: Python 3.2\n",
    "##### Numbers = 2\n",
    "##### Alphabets = 6\n",
    "##### Special Characters = 1\n",
    "##### Spaces = 1 "
   ]
  },
  {
   "cell_type": "code",
   "execution_count": 13,
   "metadata": {},
   "outputs": [
    {
     "name": "stdout",
     "output_type": "stream",
     "text": [
      "Please Enter your Own String : Python 3.2\n",
      "\n",
      "Numbers :   2\n",
      "Alphabets:   6\n",
      "Special Characters :   1\n",
      "Spaces :   1\n"
     ]
    }
   ],
   "source": [
    "str1 = input(\"Please Enter your Own String : \")\n",
    "alphabets = digits = special = spaces = 0\n",
    "\n",
    "for i in range(len(str1)):\n",
    "    if((str1[i] >= 'a' and str1[i] <= 'z') or (str1[i] >= 'A' and str1[i] <= 'Z')): \n",
    "        alphabets += 1 \n",
    "    elif(str1[i] >= '0' and str1[i] <= '9'):\n",
    "        digits += 1\n",
    "    elif (str1[i] == (\" \")):\n",
    "            spaces +=1\n",
    "    else:\n",
    "        special = special + 1\n",
    "        \n",
    "print(\"\\nNumbers :  \", digits)\n",
    "print(\"Alphabets:  \", alphabets)\n",
    "print(\"Special Characters :  \", special)\n",
    "print(\"Spaces :  \", spaces)\n"
   ]
  },
  {
   "cell_type": "code",
   "execution_count": null,
   "metadata": {},
   "outputs": [],
   "source": []
  },
  {
   "cell_type": "markdown",
   "metadata": {},
   "source": [
    "## 21. Write a Python program to construct the following pattern\n",
    "##### *\n",
    "##### * *\n",
    "##### * * *\n",
    "##### * * * *\n",
    "##### * * * * *\n",
    "##### * * * *\n",
    "##### * * *\n",
    "##### * *\n",
    "##### *"
   ]
  },
  {
   "cell_type": "code",
   "execution_count": null,
   "metadata": {},
   "outputs": [],
   "source": []
  },
  {
   "cell_type": "code",
   "execution_count": 32,
   "metadata": {},
   "outputs": [
    {
     "name": "stdout",
     "output_type": "stream",
     "text": [
      "*\n",
      "**\n",
      "***\n",
      "****\n",
      "*****\n",
      "****\n",
      "***\n",
      "**\n",
      "*\n",
      "\n"
     ]
    }
   ],
   "source": [
    "for i in range(0,5):\n",
    "    for j in range(0,i+1):\n",
    "        print(\"*\",end=\"\")\n",
    "    print()\n",
    "for k in range(5,0,-1):\n",
    "    for l in range(k-1,0,-1):\n",
    "        print(\"*\",end=\"\")\n",
    "    print()  "
   ]
  },
  {
   "cell_type": "code",
   "execution_count": null,
   "metadata": {},
   "outputs": [],
   "source": []
  },
  {
   "cell_type": "markdown",
   "metadata": {},
   "source": [
    "## 22. Write a Python program to construct the following pattern\n",
    "######  1\n",
    "######  1 2\n",
    "######  1 2 3\n",
    "######  1 2 3 4\n",
    "######  1 2 3 4 5\n",
    "######  1 2 3 4\n",
    "######  1 2 3\n",
    "######  1 2 \n",
    "######  1 "
   ]
  },
  {
   "cell_type": "code",
   "execution_count": 81,
   "metadata": {},
   "outputs": [
    {
     "name": "stdout",
     "output_type": "stream",
     "text": [
      "1 \r\n",
      "1 2 \r\n",
      "1 2 3 \r\n",
      "1 2 3 4 \r\n",
      "1 2 3 4 5 \r\n",
      "1 2 3 4 \r\n",
      "1 2 3 \r\n",
      "1 2 \r\n",
      "1 \r\n"
     ]
    }
   ],
   "source": [
    "lastNumber = 6\n",
    "for i in range(1, lastNumber):\n",
    "    for j in range(1, i + 1):\n",
    "        print(j, end=' ')\n",
    "    print(\"\\r\")\n",
    "for k in range(5, 1,-1):\n",
    "    for l in range(1,k ,1):\n",
    "        print(l, end = ' ')\n",
    "    print(\"\\r\")  \n",
    "    "
   ]
  },
  {
   "cell_type": "code",
   "execution_count": null,
   "metadata": {},
   "outputs": [],
   "source": []
  },
  {
   "cell_type": "markdown",
   "metadata": {},
   "source": [
    "## 23. Write a Python program to construct the following pattern\n",
    "##### 1\n",
    "##### 22\n",
    "##### 333\n",
    "##### 4444\n",
    "##### 55555\n",
    "##### 666666\n",
    "##### 7777777\n",
    "##### 88888888\n",
    "##### 999999999 "
   ]
  },
  {
   "cell_type": "code",
   "execution_count": 83,
   "metadata": {},
   "outputs": [
    {
     "name": "stdout",
     "output_type": "stream",
     "text": [
      "\n",
      "\n",
      "1\n",
      "\n",
      "22\n",
      "\n",
      "333\n",
      "\n",
      "4444\n",
      "\n",
      "55555\n",
      "\n",
      "666666\n",
      "\n",
      "7777777\n",
      "\n",
      "88888888\n",
      "\n",
      "999999999\n",
      "\n"
     ]
    }
   ],
   "source": [
    "for i in range(10):\n",
    "    for j in  range(i):\n",
    "        print(i, end ='')\n",
    "    print(\"\\n\")    "
   ]
  },
  {
   "cell_type": "code",
   "execution_count": null,
   "metadata": {},
   "outputs": [],
   "source": []
  }
 ],
 "metadata": {
  "kernelspec": {
   "display_name": "Python 3",
   "language": "python",
   "name": "python3"
  },
  "language_info": {
   "codemirror_mode": {
    "name": "ipython",
    "version": 3
   },
   "file_extension": ".py",
   "mimetype": "text/x-python",
   "name": "python",
   "nbconvert_exporter": "python",
   "pygments_lexer": "ipython3",
   "version": "3.7.1"
  }
 },
 "nbformat": 4,
 "nbformat_minor": 2
}
